{
 "cells": [
  {
   "cell_type": "markdown",
   "metadata": {},
   "source": [
    "## Zillow\n",
    "\n",
    "For the following, iterate through the steps you would take to create functions: Write the code to do the following in a jupyter notebook, test it, convert to functions, then create the file to house those functions.\n",
    "\n",
    "You will have a `zillow.ipynb` file and a helper file for each section in the pipeline.\n",
    "\n",
    "**Summarize Zillow Database**\n",
    "\n",
    "- airconditioningtype: 13 unique values\n",
    "    - primary key: airconditioningtypeid\n",
    "\n",
    "\n",
    "- architecturalstyletype: 27 unique values\n",
    "    - primary key: architecturalstyletypeid\n",
    "    \n",
    "    \n",
    "- buildingclasstype: 5 unique values\n",
    "    - primary key: buildingclasstypeid\n",
    "    \n",
    "    \n",
    "- heatingorsystemtype: 25 unique values\n",
    "    - primary key: heatingorsystemtypeid\n",
    "    \n",
    "    \n",
    "- predictions_2016: all the transactions in 2016 \n",
    "    - No need to be joined\n",
    "    \n",
    "    \n",
    "- predictions_2017: 77614 records in total\n",
    "    - primary key: parcelid\n",
    "    - 77613 records in 2017\n",
    "    - 1 record in 2018\n",
    "    - unique id: 77614\n",
    "    - **unique parcelid: 77414**\n",
    "    \n",
    "    \n",
    "- properties_2016: No need to be joined\n",
    "\n",
    "\n",
    "- properties_2017: main table\n",
    "    - primary key: parcelid\n",
    "    \n",
    "    \n",
    "- propertylandusetype\n",
    "    - primary key: propertylandusetypeid\n",
    "    \n",
    "    \n",
    "- storytype: 35 unique values\n",
    "    - primary key: storytypeid\n",
    "    \n",
    "\n",
    "- typeconstructiontype: 18 unqiue values\n",
    "    - primary key: typeconstructiontypeid\n",
    "    \n",
    "    \n",
    "- unique_properties: 2,985,217 rows\n",
    "    - primary key: parcelid"
   ]
  },
  {
   "cell_type": "markdown",
   "metadata": {},
   "source": [
    "## acquire & summarize\n",
    "\n",
    "### 1. Acquire data from mySQL using the python module to connect and query. You will want to end with **a single dataframe**. Make sure to include: the logerror, all fields related to the properties that are available. You will end up **using all the tables in the database**.\n",
    "- Be sure to do **the correct join (inner, outer, etc.)**. We do not want to eliminate properties purely because they may have a null value for airconditioningtypeid.\n",
    "- Only include properties with a **transaction in 2017**, and include **only the last transaction for each properity** (so no duplicate property ID's), along with zestimate error and date of transaction.\n",
    "- Only include properties that include a latitude and longitude value."
   ]
  },
  {
   "cell_type": "code",
   "execution_count": 1,
   "metadata": {},
   "outputs": [],
   "source": [
    "import warnings\n",
    "warnings.filterwarnings(\"ignore\")\n",
    "import os\n",
    "\n",
    "import numpy as np\n",
    "import pandas as pd\n",
    "\n",
    "import matplotlib.pyplot as plt\n",
    "import seaborn as sns\n",
    "\n",
    "import env, acquire, summarize, prepare, wrangle_zillow"
   ]
  },
  {
   "cell_type": "code",
   "execution_count": 2,
   "metadata": {},
   "outputs": [
    {
     "data": {
      "text/plain": [
       "(77579, 69)"
      ]
     },
     "execution_count": 2,
     "metadata": {},
     "output_type": "execute_result"
    }
   ],
   "source": [
    "# Acquire properties with a transaction in 2017 order first by parcelid then transactiondate\n",
    "\n",
    "query = \"\"\"\n",
    "        select *\n",
    "        from properties_2017\n",
    "        join predictions_2017 using(parcelid)\n",
    "        left join airconditioningtype using(airconditioningtypeid)\n",
    "        left join architecturalstyletype using(architecturalstyletypeid)\n",
    "        left join buildingclasstype using(buildingclasstypeid)\n",
    "        left join heatingorsystemtype using(heatingorsystemtypeid)\n",
    "        left join propertylandusetype using(propertylandusetypeid)\n",
    "        left join storytype using(storytypeid)\n",
    "        left join typeconstructiontype using(typeconstructiontypeid)\n",
    "        where transactiondate between '2017-01-01' and '2017-12-31'\n",
    "        and latitude is not null\n",
    "        and longitude is not null\n",
    "        order by parcelid, transactiondate\n",
    "        \"\"\"\n",
    "\n",
    "df = acquire.get_zillow_data(query, '2')\n",
    "df.shape"
   ]
  },
  {
   "cell_type": "code",
   "execution_count": 3,
   "metadata": {},
   "outputs": [
    {
     "data": {
      "text/html": [
       "<div>\n",
       "<style scoped>\n",
       "    .dataframe tbody tr th:only-of-type {\n",
       "        vertical-align: middle;\n",
       "    }\n",
       "\n",
       "    .dataframe tbody tr th {\n",
       "        vertical-align: top;\n",
       "    }\n",
       "\n",
       "    .dataframe thead th {\n",
       "        text-align: right;\n",
       "    }\n",
       "</style>\n",
       "<table border=\"1\" class=\"dataframe\">\n",
       "  <thead>\n",
       "    <tr style=\"text-align: right;\">\n",
       "      <th></th>\n",
       "      <th>typeconstructiontypeid</th>\n",
       "      <th>storytypeid</th>\n",
       "      <th>propertylandusetypeid</th>\n",
       "      <th>heatingorsystemtypeid</th>\n",
       "      <th>buildingclasstypeid</th>\n",
       "      <th>architecturalstyletypeid</th>\n",
       "      <th>airconditioningtypeid</th>\n",
       "      <th>parcelid</th>\n",
       "      <th>id</th>\n",
       "      <th>basementsqft</th>\n",
       "      <th>...</th>\n",
       "      <th>id</th>\n",
       "      <th>logerror</th>\n",
       "      <th>transactiondate</th>\n",
       "      <th>airconditioningdesc</th>\n",
       "      <th>architecturalstyledesc</th>\n",
       "      <th>buildingclassdesc</th>\n",
       "      <th>heatingorsystemdesc</th>\n",
       "      <th>propertylandusedesc</th>\n",
       "      <th>storydesc</th>\n",
       "      <th>typeconstructiondesc</th>\n",
       "    </tr>\n",
       "  </thead>\n",
       "  <tbody>\n",
       "    <tr>\n",
       "      <th>0</th>\n",
       "      <td>NaN</td>\n",
       "      <td>NaN</td>\n",
       "      <td>261.0</td>\n",
       "      <td>2.0</td>\n",
       "      <td>NaN</td>\n",
       "      <td>NaN</td>\n",
       "      <td>NaN</td>\n",
       "      <td>10711855</td>\n",
       "      <td>1087254</td>\n",
       "      <td>NaN</td>\n",
       "      <td>...</td>\n",
       "      <td>55006</td>\n",
       "      <td>-0.007357</td>\n",
       "      <td>2017-07-07</td>\n",
       "      <td>None</td>\n",
       "      <td>None</td>\n",
       "      <td>None</td>\n",
       "      <td>Central</td>\n",
       "      <td>Single Family Residential</td>\n",
       "      <td>None</td>\n",
       "      <td>None</td>\n",
       "    </tr>\n",
       "    <tr>\n",
       "      <th>1</th>\n",
       "      <td>NaN</td>\n",
       "      <td>NaN</td>\n",
       "      <td>261.0</td>\n",
       "      <td>2.0</td>\n",
       "      <td>NaN</td>\n",
       "      <td>NaN</td>\n",
       "      <td>1.0</td>\n",
       "      <td>10711877</td>\n",
       "      <td>1072280</td>\n",
       "      <td>NaN</td>\n",
       "      <td>...</td>\n",
       "      <td>71382</td>\n",
       "      <td>0.021066</td>\n",
       "      <td>2017-08-29</td>\n",
       "      <td>Central</td>\n",
       "      <td>None</td>\n",
       "      <td>None</td>\n",
       "      <td>Central</td>\n",
       "      <td>Single Family Residential</td>\n",
       "      <td>None</td>\n",
       "      <td>None</td>\n",
       "    </tr>\n",
       "    <tr>\n",
       "      <th>2</th>\n",
       "      <td>NaN</td>\n",
       "      <td>NaN</td>\n",
       "      <td>261.0</td>\n",
       "      <td>2.0</td>\n",
       "      <td>NaN</td>\n",
       "      <td>NaN</td>\n",
       "      <td>1.0</td>\n",
       "      <td>10711888</td>\n",
       "      <td>1340933</td>\n",
       "      <td>NaN</td>\n",
       "      <td>...</td>\n",
       "      <td>23209</td>\n",
       "      <td>0.077174</td>\n",
       "      <td>2017-04-04</td>\n",
       "      <td>Central</td>\n",
       "      <td>None</td>\n",
       "      <td>None</td>\n",
       "      <td>Central</td>\n",
       "      <td>Single Family Residential</td>\n",
       "      <td>None</td>\n",
       "      <td>None</td>\n",
       "    </tr>\n",
       "    <tr>\n",
       "      <th>3</th>\n",
       "      <td>NaN</td>\n",
       "      <td>NaN</td>\n",
       "      <td>261.0</td>\n",
       "      <td>2.0</td>\n",
       "      <td>NaN</td>\n",
       "      <td>NaN</td>\n",
       "      <td>NaN</td>\n",
       "      <td>10711910</td>\n",
       "      <td>1878109</td>\n",
       "      <td>NaN</td>\n",
       "      <td>...</td>\n",
       "      <td>18017</td>\n",
       "      <td>-0.041238</td>\n",
       "      <td>2017-03-17</td>\n",
       "      <td>None</td>\n",
       "      <td>None</td>\n",
       "      <td>None</td>\n",
       "      <td>Central</td>\n",
       "      <td>Single Family Residential</td>\n",
       "      <td>None</td>\n",
       "      <td>None</td>\n",
       "    </tr>\n",
       "    <tr>\n",
       "      <th>4</th>\n",
       "      <td>NaN</td>\n",
       "      <td>NaN</td>\n",
       "      <td>261.0</td>\n",
       "      <td>2.0</td>\n",
       "      <td>NaN</td>\n",
       "      <td>NaN</td>\n",
       "      <td>NaN</td>\n",
       "      <td>10711923</td>\n",
       "      <td>2190858</td>\n",
       "      <td>NaN</td>\n",
       "      <td>...</td>\n",
       "      <td>20378</td>\n",
       "      <td>-0.009496</td>\n",
       "      <td>2017-03-24</td>\n",
       "      <td>None</td>\n",
       "      <td>None</td>\n",
       "      <td>None</td>\n",
       "      <td>Central</td>\n",
       "      <td>Single Family Residential</td>\n",
       "      <td>None</td>\n",
       "      <td>None</td>\n",
       "    </tr>\n",
       "  </tbody>\n",
       "</table>\n",
       "<p>5 rows × 69 columns</p>\n",
       "</div>"
      ],
      "text/plain": [
       "   typeconstructiontypeid  storytypeid  propertylandusetypeid  \\\n",
       "0                     NaN          NaN                  261.0   \n",
       "1                     NaN          NaN                  261.0   \n",
       "2                     NaN          NaN                  261.0   \n",
       "3                     NaN          NaN                  261.0   \n",
       "4                     NaN          NaN                  261.0   \n",
       "\n",
       "   heatingorsystemtypeid  buildingclasstypeid  architecturalstyletypeid  \\\n",
       "0                    2.0                  NaN                       NaN   \n",
       "1                    2.0                  NaN                       NaN   \n",
       "2                    2.0                  NaN                       NaN   \n",
       "3                    2.0                  NaN                       NaN   \n",
       "4                    2.0                  NaN                       NaN   \n",
       "\n",
       "   airconditioningtypeid  parcelid       id  basementsqft  ...     id  \\\n",
       "0                    NaN  10711855  1087254           NaN  ...  55006   \n",
       "1                    1.0  10711877  1072280           NaN  ...  71382   \n",
       "2                    1.0  10711888  1340933           NaN  ...  23209   \n",
       "3                    NaN  10711910  1878109           NaN  ...  18017   \n",
       "4                    NaN  10711923  2190858           NaN  ...  20378   \n",
       "\n",
       "   logerror  transactiondate  airconditioningdesc  architecturalstyledesc  \\\n",
       "0 -0.007357       2017-07-07                 None                    None   \n",
       "1  0.021066       2017-08-29              Central                    None   \n",
       "2  0.077174       2017-04-04              Central                    None   \n",
       "3 -0.041238       2017-03-17                 None                    None   \n",
       "4 -0.009496       2017-03-24                 None                    None   \n",
       "\n",
       "   buildingclassdesc  heatingorsystemdesc        propertylandusedesc  \\\n",
       "0               None              Central  Single Family Residential   \n",
       "1               None              Central  Single Family Residential   \n",
       "2               None              Central  Single Family Residential   \n",
       "3               None              Central  Single Family Residential   \n",
       "4               None              Central  Single Family Residential   \n",
       "\n",
       "   storydesc  typeconstructiondesc  \n",
       "0       None                  None  \n",
       "1       None                  None  \n",
       "2       None                  None  \n",
       "3       None                  None  \n",
       "4       None                  None  \n",
       "\n",
       "[5 rows x 69 columns]"
      ]
     },
     "execution_count": 3,
     "metadata": {},
     "output_type": "execute_result"
    }
   ],
   "source": [
    "df.head()"
   ]
  },
  {
   "cell_type": "code",
   "execution_count": 4,
   "metadata": {},
   "outputs": [
    {
     "name": "stdout",
     "output_type": "stream",
     "text": [
      "<class 'pandas.core.frame.DataFrame'>\n",
      "RangeIndex: 77579 entries, 0 to 77578\n",
      "Data columns (total 69 columns):\n",
      " #   Column                        Non-Null Count  Dtype  \n",
      "---  ------                        --------------  -----  \n",
      " 0   typeconstructiontypeid        223 non-null    float64\n",
      " 1   storytypeid                   50 non-null     float64\n",
      " 2   propertylandusetypeid         77579 non-null  float64\n",
      " 3   heatingorsystemtypeid         49571 non-null  float64\n",
      " 4   buildingclasstypeid           15 non-null     float64\n",
      " 5   architecturalstyletypeid      207 non-null    float64\n",
      " 6   airconditioningtypeid         25007 non-null  float64\n",
      " 7   parcelid                      77579 non-null  int64  \n",
      " 8   id                            77579 non-null  int64  \n",
      " 9   basementsqft                  50 non-null     float64\n",
      " 10  bathroomcnt                   77579 non-null  float64\n",
      " 11  bedroomcnt                    77579 non-null  float64\n",
      " 12  buildingqualitytypeid         49809 non-null  float64\n",
      " 13  calculatedbathnbr             76963 non-null  float64\n",
      " 14  decktypeid                    614 non-null    float64\n",
      " 15  finishedfloor1squarefeet      6037 non-null   float64\n",
      " 16  calculatedfinishedsquarefeet  77378 non-null  float64\n",
      " 17  finishedsquarefeet12          73923 non-null  float64\n",
      " 18  finishedsquarefeet13          42 non-null     float64\n",
      " 19  finishedsquarefeet15          3027 non-null   float64\n",
      " 20  finishedsquarefeet50          6037 non-null   float64\n",
      " 21  finishedsquarefeet6           386 non-null    float64\n",
      " 22  fips                          77579 non-null  float64\n",
      " 23  fireplacecnt                  8289 non-null   float64\n",
      " 24  fullbathcnt                   76963 non-null  float64\n",
      " 25  garagecarcnt                  25520 non-null  float64\n",
      " 26  garagetotalsqft               25520 non-null  float64\n",
      " 27  hashottuborspa                1539 non-null   float64\n",
      " 28  latitude                      77579 non-null  float64\n",
      " 29  longitude                     77579 non-null  float64\n",
      " 30  lotsizesquarefeet             69321 non-null  float64\n",
      " 31  poolcnt                       16174 non-null  float64\n",
      " 32  poolsizesum                   869 non-null    float64\n",
      " 33  pooltypeid10                  465 non-null    float64\n",
      " 34  pooltypeid2                   1074 non-null   float64\n",
      " 35  pooltypeid7                   15079 non-null  float64\n",
      " 36  propertycountylandusecode     77579 non-null  object \n",
      " 37  propertyzoningdesc            50476 non-null  object \n",
      " 38  rawcensustractandblock        77579 non-null  float64\n",
      " 39  regionidcity                  76107 non-null  float64\n",
      " 40  regionidcounty                77579 non-null  float64\n",
      " 41  regionidneighborhood          30974 non-null  float64\n",
      " 42  regionidzip                   77529 non-null  float64\n",
      " 43  roomcnt                       77579 non-null  float64\n",
      " 44  threequarterbathnbr           10106 non-null  float64\n",
      " 45  unitcnt                       50703 non-null  float64\n",
      " 46  yardbuildingsqft17            2393 non-null   float64\n",
      " 47  yardbuildingsqft26            70 non-null     float64\n",
      " 48  yearbuilt                     77309 non-null  float64\n",
      " 49  numberofstories               17599 non-null  float64\n",
      " 50  fireplaceflag                 172 non-null    float64\n",
      " 51  structuretaxvaluedollarcnt    77464 non-null  float64\n",
      " 52  taxvaluedollarcnt             77578 non-null  float64\n",
      " 53  assessmentyear                77579 non-null  float64\n",
      " 54  landtaxvaluedollarcnt         77577 non-null  float64\n",
      " 55  taxamount                     77574 non-null  float64\n",
      " 56  taxdelinquencyflag            2900 non-null   object \n",
      " 57  taxdelinquencyyear            2900 non-null   float64\n",
      " 58  censustractandblock           77332 non-null  float64\n",
      " 59  id                            77579 non-null  int64  \n",
      " 60  logerror                      77579 non-null  float64\n",
      " 61  transactiondate               77579 non-null  object \n",
      " 62  airconditioningdesc           25007 non-null  object \n",
      " 63  architecturalstyledesc        207 non-null    object \n",
      " 64  buildingclassdesc             15 non-null     object \n",
      " 65  heatingorsystemdesc           49571 non-null  object \n",
      " 66  propertylandusedesc           77579 non-null  object \n",
      " 67  storydesc                     50 non-null     object \n",
      " 68  typeconstructiondesc          223 non-null    object \n",
      "dtypes: float64(55), int64(3), object(11)\n",
      "memory usage: 40.8+ MB\n"
     ]
    }
   ],
   "source": [
    "df.info()"
   ]
  },
  {
   "cell_type": "code",
   "execution_count": null,
   "metadata": {},
   "outputs": [],
   "source": [
    "# Address duplicates: show all duplicates\n",
    "\n",
    "mask = df.duplicated(subset='parcelid', keep=False)\n",
    "df_duplicated = df[mask]\n",
    "df_duplicated.head()"
   ]
  },
  {
   "cell_type": "code",
   "execution_count": null,
   "metadata": {},
   "outputs": [],
   "source": [
    "df_duplicated.shape"
   ]
  },
  {
   "cell_type": "code",
   "execution_count": null,
   "metadata": {},
   "outputs": [],
   "source": [
    "# Only kee the last transaction (the most recent) for each properity. \n",
    "\n",
    "df.drop_duplicates(subset=['parcelid'], keep='last', inplace=True, ignore_index=True)\n",
    "df.shape"
   ]
  },
  {
   "cell_type": "code",
   "execution_count": null,
   "metadata": {},
   "outputs": [],
   "source": [
    "# Check to see whether the property with most transatction date is kept.\n",
    "\n",
    "df[(df.parcelid == 10722858) | (df.parcelid == 10732347)]"
   ]
  },
  {
   "cell_type": "code",
   "execution_count": null,
   "metadata": {},
   "outputs": [],
   "source": [
    "# Check if there exsits duplicate property ID\n",
    "\n",
    "df.duplicated(subset='parcelid').any()"
   ]
  },
  {
   "cell_type": "markdown",
   "metadata": {},
   "source": [
    "**Takeaways**: Properties with transaction in 2017"
   ]
  },
  {
   "cell_type": "markdown",
   "metadata": {},
   "source": [
    "### 2. Summarize your data (summary stats, info, dtypes, shape, distributions, value_counts, etc.)"
   ]
  },
  {
   "cell_type": "code",
   "execution_count": 5,
   "metadata": {},
   "outputs": [
    {
     "data": {
      "text/plain": [
       "(77381, 69)"
      ]
     },
     "execution_count": 5,
     "metadata": {},
     "output_type": "execute_result"
    }
   ],
   "source": [
    "zillow = prepare.keep_last_transaction(df)\n",
    "zillow.shape"
   ]
  },
  {
   "cell_type": "code",
   "execution_count": null,
   "metadata": {
    "scrolled": false
   },
   "outputs": [],
   "source": [
    "# Summary stats\n",
    "\n",
    "zillow.describe()"
   ]
  },
  {
   "cell_type": "code",
   "execution_count": null,
   "metadata": {
    "scrolled": false
   },
   "outputs": [],
   "source": [
    "# Info\n",
    "\n",
    "zillow.info()"
   ]
  },
  {
   "cell_type": "code",
   "execution_count": null,
   "metadata": {},
   "outputs": [],
   "source": [
    "# Display object columns and the counts of unique values\n",
    "\n",
    "zillow_obj_sum = summarize.sum_obj_cols(zillow)\n",
    "zillow_obj_sum"
   ]
  },
  {
   "cell_type": "code",
   "execution_count": null,
   "metadata": {
    "scrolled": false
   },
   "outputs": [],
   "source": [
    "# Count unique values in each attributes\n",
    "\n",
    "summarize.obj_value_counts(zillow)"
   ]
  },
  {
   "cell_type": "code",
   "execution_count": null,
   "metadata": {},
   "outputs": [],
   "source": [
    "zillow.shape"
   ]
  },
  {
   "cell_type": "code",
   "execution_count": null,
   "metadata": {},
   "outputs": [],
   "source": [
    "zillow_num = summarize.num_df(zillow)\n",
    "zillow_num.shape"
   ]
  },
  {
   "cell_type": "code",
   "execution_count": null,
   "metadata": {},
   "outputs": [],
   "source": [
    "zillow_obj = summarize.obj_df(zillow)\n",
    "zillow_obj.shape"
   ]
  },
  {
   "cell_type": "markdown",
   "metadata": {},
   "source": [
    "### 3. Write a function that takes in a dataframe of observations and attributes and returns a dataframe where each row is an atttribute name, the first column is the number of rows with missing values for that attribute, and the second column is percent of total rows that have missing values for that attribute. Run the function and document takeaways from this on how you want to handle missing values."
   ]
  },
  {
   "cell_type": "code",
   "execution_count": null,
   "metadata": {},
   "outputs": [],
   "source": [
    "zillow.head()"
   ]
  },
  {
   "cell_type": "code",
   "execution_count": null,
   "metadata": {},
   "outputs": [],
   "source": [
    "# Compute the number of rows with missing values \n",
    "\n",
    "attributes_missing_values = pd.DataFrame(zillow.isna().sum(axis=0), columns=['num_row_missing'])\n",
    "attributes_missing_values"
   ]
  },
  {
   "cell_type": "code",
   "execution_count": null,
   "metadata": {
    "scrolled": false
   },
   "outputs": [],
   "source": [
    "# Add a column to compute the percent of total rows that have missing values\n",
    "\n",
    "total_rows = zillow.shape[0]\n",
    "\n",
    "attributes_missing_values['pct_rows_missing'] = attributes_missing_values.num_row_missing/total_rows\n",
    "attributes_missing_values.head()"
   ]
  },
  {
   "cell_type": "code",
   "execution_count": null,
   "metadata": {},
   "outputs": [],
   "source": [
    "# Test the function\n",
    "\n",
    "attributes_missing_values = summarize.sum_missing_values_attributes(zillow)\n",
    "attributes_missing_values"
   ]
  },
  {
   "cell_type": "markdown",
   "metadata": {},
   "source": [
    "### 4. Write a function that takes in a dataframe and returns a dataframe with 3 columns: the number of columns missing, percent of columns missing, and number of rows with n columns missing. Run the function and document takeaways from this on how you want to handle missing values."
   ]
  },
  {
   "cell_type": "code",
   "execution_count": null,
   "metadata": {},
   "outputs": [],
   "source": [
    "# Count the rows based on how many missing values in that row. \n",
    "\n",
    "x = zillow.isnull().sum(axis=1).value_counts().sort_index()\n",
    "x"
   ]
  },
  {
   "cell_type": "code",
   "execution_count": null,
   "metadata": {},
   "outputs": [],
   "source": [
    "# Construct the dataframe from list of lists\n",
    "\n",
    "cols_missing_values = pd.DataFrame([x.index.tolist(), x.values.tolist()], \n",
    "                                   index = ['num_cols_missing', 'num_rows'])\n",
    "cols_missing_values.T"
   ]
  },
  {
   "cell_type": "code",
   "execution_count": null,
   "metadata": {},
   "outputs": [],
   "source": [
    "# Construct the dataset from dict\n",
    "\n",
    "d = {'num_cols_missing': x.index.tolist(), 'num_rows': x.values.tolist()}\n",
    "\n",
    "cols_missing_values = pd.DataFrame(d)\n",
    "cols_missing_values"
   ]
  },
  {
   "cell_type": "code",
   "execution_count": null,
   "metadata": {},
   "outputs": [],
   "source": [
    "# Compute the percent of columns missing\n",
    "\n",
    "n = zillow.shape[0] # Compuate the total number of rows\n",
    "cols_missing_values['pct_cols_missing'] = (cols_missing_values.num_rows/n)*100\n",
    "cols_missing_values"
   ]
  },
  {
   "cell_type": "code",
   "execution_count": null,
   "metadata": {},
   "outputs": [],
   "source": [
    "# Visualize the distribution of the \n",
    "\n",
    "x = cols_missing_values.num_cols_missing\n",
    "y = cols_missing_values.num_rows\n",
    "\n",
    "plt.rc('figure', figsize=(13,7))\n",
    "\n",
    "plt.subplot(121)\n",
    "plt. bar(x, y)\n",
    "\n",
    "plt.subplot(122)\n",
    "sns.barplot(x, y)"
   ]
  },
  {
   "cell_type": "code",
   "execution_count": null,
   "metadata": {},
   "outputs": [],
   "source": [
    "# Test the function\n",
    "\n",
    "cols_missing_values = summarize.sum_missing_values_cols(zillow)\n",
    "cols_missing_values"
   ]
  },
  {
   "cell_type": "markdown",
   "metadata": {},
   "source": [
    "## Prepare\n",
    "### 1. Remove any properties that are likely to be something other than single unit properties. (e.g. no duplexes, no land/lot, ...). \n",
    "- There are multiple ways to estimate that a property is a single unit, and there is not a single \"right\" answer. But for this exercise, do not purely filter by unitcnt as we did previously. \n",
    "- Add some new logic that will reduce the number of properties that are falsely removed. \n",
    "- You might want to use # bedrooms, square feet, unit type or the like to then identify those with unitcnt not defined."
   ]
  },
  {
   "cell_type": "code",
   "execution_count": 6,
   "metadata": {
    "scrolled": true
   },
   "outputs": [
    {
     "data": {
      "text/plain": [
       "(77381, 69)"
      ]
     },
     "execution_count": 6,
     "metadata": {},
     "output_type": "execute_result"
    }
   ],
   "source": [
    "zillow.shape"
   ]
  },
  {
   "cell_type": "code",
   "execution_count": null,
   "metadata": {},
   "outputs": [],
   "source": [
    "zillow.propertylandusetypeid.value_counts()"
   ]
  },
  {
   "cell_type": "code",
   "execution_count": null,
   "metadata": {
    "scrolled": true
   },
   "outputs": [],
   "source": [
    "zillow.propertylandusedesc.value_counts()"
   ]
  },
  {
   "cell_type": "code",
   "execution_count": 7,
   "metadata": {},
   "outputs": [
    {
     "data": {
      "text/plain": [
       "(52357, 69)"
      ]
     },
     "execution_count": 7,
     "metadata": {},
     "output_type": "execute_result"
    }
   ],
   "source": [
    "# Use the propertylandusetypeids previously used in regression project\n",
    "# It is better done in the SQL\n",
    "\n",
    "single_unit = [260, 261, 262, 279]\n",
    "\n",
    "zillow = zillow[zillow.propertylandusetypeid.isin(single_unit)]\n",
    "zillow.shape"
   ]
  },
  {
   "cell_type": "code",
   "execution_count": 8,
   "metadata": {},
   "outputs": [
    {
     "data": {
      "text/plain": [
       "(52179, 69)"
      ]
     },
     "execution_count": 8,
     "metadata": {},
     "output_type": "execute_result"
    }
   ],
   "source": [
    "# Keep homes with a postive number of bedrooms and bathrooms\n",
    "\n",
    "zillow = zillow[(zillow.bedroomcnt > 0) & (zillow.bathroomcnt > 0)]\n",
    "zillow.shape"
   ]
  },
  {
   "cell_type": "code",
   "execution_count": 9,
   "metadata": {
    "scrolled": false
   },
   "outputs": [
    {
     "data": {
      "text/html": [
       "<div>\n",
       "<style scoped>\n",
       "    .dataframe tbody tr th:only-of-type {\n",
       "        vertical-align: middle;\n",
       "    }\n",
       "\n",
       "    .dataframe tbody tr th {\n",
       "        vertical-align: top;\n",
       "    }\n",
       "\n",
       "    .dataframe thead th {\n",
       "        text-align: right;\n",
       "    }\n",
       "</style>\n",
       "<table border=\"1\" class=\"dataframe\">\n",
       "  <thead>\n",
       "    <tr style=\"text-align: right;\">\n",
       "      <th></th>\n",
       "      <th>typeconstructiontypeid</th>\n",
       "      <th>storytypeid</th>\n",
       "      <th>propertylandusetypeid</th>\n",
       "      <th>heatingorsystemtypeid</th>\n",
       "      <th>buildingclasstypeid</th>\n",
       "      <th>architecturalstyletypeid</th>\n",
       "      <th>airconditioningtypeid</th>\n",
       "      <th>parcelid</th>\n",
       "      <th>id</th>\n",
       "      <th>basementsqft</th>\n",
       "      <th>...</th>\n",
       "      <th>id</th>\n",
       "      <th>logerror</th>\n",
       "      <th>transactiondate</th>\n",
       "      <th>airconditioningdesc</th>\n",
       "      <th>architecturalstyledesc</th>\n",
       "      <th>buildingclassdesc</th>\n",
       "      <th>heatingorsystemdesc</th>\n",
       "      <th>propertylandusedesc</th>\n",
       "      <th>storydesc</th>\n",
       "      <th>typeconstructiondesc</th>\n",
       "    </tr>\n",
       "  </thead>\n",
       "  <tbody>\n",
       "    <tr>\n",
       "      <th>0</th>\n",
       "      <td>NaN</td>\n",
       "      <td>NaN</td>\n",
       "      <td>261.0</td>\n",
       "      <td>2.0</td>\n",
       "      <td>NaN</td>\n",
       "      <td>NaN</td>\n",
       "      <td>NaN</td>\n",
       "      <td>10711855</td>\n",
       "      <td>1087254</td>\n",
       "      <td>NaN</td>\n",
       "      <td>...</td>\n",
       "      <td>55006</td>\n",
       "      <td>-0.007357</td>\n",
       "      <td>2017-07-07</td>\n",
       "      <td>None</td>\n",
       "      <td>None</td>\n",
       "      <td>None</td>\n",
       "      <td>Central</td>\n",
       "      <td>Single Family Residential</td>\n",
       "      <td>None</td>\n",
       "      <td>None</td>\n",
       "    </tr>\n",
       "    <tr>\n",
       "      <th>1</th>\n",
       "      <td>NaN</td>\n",
       "      <td>NaN</td>\n",
       "      <td>261.0</td>\n",
       "      <td>2.0</td>\n",
       "      <td>NaN</td>\n",
       "      <td>NaN</td>\n",
       "      <td>1.0</td>\n",
       "      <td>10711877</td>\n",
       "      <td>1072280</td>\n",
       "      <td>NaN</td>\n",
       "      <td>...</td>\n",
       "      <td>71382</td>\n",
       "      <td>0.021066</td>\n",
       "      <td>2017-08-29</td>\n",
       "      <td>Central</td>\n",
       "      <td>None</td>\n",
       "      <td>None</td>\n",
       "      <td>Central</td>\n",
       "      <td>Single Family Residential</td>\n",
       "      <td>None</td>\n",
       "      <td>None</td>\n",
       "    </tr>\n",
       "    <tr>\n",
       "      <th>2</th>\n",
       "      <td>NaN</td>\n",
       "      <td>NaN</td>\n",
       "      <td>261.0</td>\n",
       "      <td>2.0</td>\n",
       "      <td>NaN</td>\n",
       "      <td>NaN</td>\n",
       "      <td>1.0</td>\n",
       "      <td>10711888</td>\n",
       "      <td>1340933</td>\n",
       "      <td>NaN</td>\n",
       "      <td>...</td>\n",
       "      <td>23209</td>\n",
       "      <td>0.077174</td>\n",
       "      <td>2017-04-04</td>\n",
       "      <td>Central</td>\n",
       "      <td>None</td>\n",
       "      <td>None</td>\n",
       "      <td>Central</td>\n",
       "      <td>Single Family Residential</td>\n",
       "      <td>None</td>\n",
       "      <td>None</td>\n",
       "    </tr>\n",
       "    <tr>\n",
       "      <th>3</th>\n",
       "      <td>NaN</td>\n",
       "      <td>NaN</td>\n",
       "      <td>261.0</td>\n",
       "      <td>2.0</td>\n",
       "      <td>NaN</td>\n",
       "      <td>NaN</td>\n",
       "      <td>NaN</td>\n",
       "      <td>10711910</td>\n",
       "      <td>1878109</td>\n",
       "      <td>NaN</td>\n",
       "      <td>...</td>\n",
       "      <td>18017</td>\n",
       "      <td>-0.041238</td>\n",
       "      <td>2017-03-17</td>\n",
       "      <td>None</td>\n",
       "      <td>None</td>\n",
       "      <td>None</td>\n",
       "      <td>Central</td>\n",
       "      <td>Single Family Residential</td>\n",
       "      <td>None</td>\n",
       "      <td>None</td>\n",
       "    </tr>\n",
       "    <tr>\n",
       "      <th>4</th>\n",
       "      <td>NaN</td>\n",
       "      <td>NaN</td>\n",
       "      <td>261.0</td>\n",
       "      <td>2.0</td>\n",
       "      <td>NaN</td>\n",
       "      <td>NaN</td>\n",
       "      <td>NaN</td>\n",
       "      <td>10711923</td>\n",
       "      <td>2190858</td>\n",
       "      <td>NaN</td>\n",
       "      <td>...</td>\n",
       "      <td>20378</td>\n",
       "      <td>-0.009496</td>\n",
       "      <td>2017-03-24</td>\n",
       "      <td>None</td>\n",
       "      <td>None</td>\n",
       "      <td>None</td>\n",
       "      <td>Central</td>\n",
       "      <td>Single Family Residential</td>\n",
       "      <td>None</td>\n",
       "      <td>None</td>\n",
       "    </tr>\n",
       "  </tbody>\n",
       "</table>\n",
       "<p>5 rows × 69 columns</p>\n",
       "</div>"
      ],
      "text/plain": [
       "   typeconstructiontypeid  storytypeid  propertylandusetypeid  \\\n",
       "0                     NaN          NaN                  261.0   \n",
       "1                     NaN          NaN                  261.0   \n",
       "2                     NaN          NaN                  261.0   \n",
       "3                     NaN          NaN                  261.0   \n",
       "4                     NaN          NaN                  261.0   \n",
       "\n",
       "   heatingorsystemtypeid  buildingclasstypeid  architecturalstyletypeid  \\\n",
       "0                    2.0                  NaN                       NaN   \n",
       "1                    2.0                  NaN                       NaN   \n",
       "2                    2.0                  NaN                       NaN   \n",
       "3                    2.0                  NaN                       NaN   \n",
       "4                    2.0                  NaN                       NaN   \n",
       "\n",
       "   airconditioningtypeid  parcelid       id  basementsqft  ...     id  \\\n",
       "0                    NaN  10711855  1087254           NaN  ...  55006   \n",
       "1                    1.0  10711877  1072280           NaN  ...  71382   \n",
       "2                    1.0  10711888  1340933           NaN  ...  23209   \n",
       "3                    NaN  10711910  1878109           NaN  ...  18017   \n",
       "4                    NaN  10711923  2190858           NaN  ...  20378   \n",
       "\n",
       "   logerror  transactiondate  airconditioningdesc  architecturalstyledesc  \\\n",
       "0 -0.007357       2017-07-07                 None                    None   \n",
       "1  0.021066       2017-08-29              Central                    None   \n",
       "2  0.077174       2017-04-04              Central                    None   \n",
       "3 -0.041238       2017-03-17                 None                    None   \n",
       "4 -0.009496       2017-03-24                 None                    None   \n",
       "\n",
       "   buildingclassdesc  heatingorsystemdesc        propertylandusedesc  \\\n",
       "0               None              Central  Single Family Residential   \n",
       "1               None              Central  Single Family Residential   \n",
       "2               None              Central  Single Family Residential   \n",
       "3               None              Central  Single Family Residential   \n",
       "4               None              Central  Single Family Residential   \n",
       "\n",
       "   storydesc  typeconstructiondesc  \n",
       "0       None                  None  \n",
       "1       None                  None  \n",
       "2       None                  None  \n",
       "3       None                  None  \n",
       "4       None                  None  \n",
       "\n",
       "[5 rows x 69 columns]"
      ]
     },
     "execution_count": 9,
     "metadata": {},
     "output_type": "execute_result"
    }
   ],
   "source": [
    "zillow.head()"
   ]
  },
  {
   "cell_type": "code",
   "execution_count": 14,
   "metadata": {
    "scrolled": true
   },
   "outputs": [
    {
     "data": {
      "text/plain": [
       "1.0    33699\n",
       "NaN    18451\n",
       "2.0       26\n",
       "4.0        2\n",
       "3.0        1\n",
       "Name: unitcnt, dtype: int64"
      ]
     },
     "execution_count": 14,
     "metadata": {},
     "output_type": "execute_result"
    }
   ],
   "source": [
    "# Address the null values in the unitcnt\n",
    "\n",
    "zillow.unitcnt.value_counts(dropna=False)"
   ]
  },
  {
   "cell_type": "code",
   "execution_count": 15,
   "metadata": {},
   "outputs": [
    {
     "data": {
      "text/plain": [
       "(52179, 69)"
      ]
     },
     "execution_count": 15,
     "metadata": {},
     "output_type": "execute_result"
    }
   ],
   "source": [
    "# 18451 null unit counts. They're probably unit counts of 1.\n",
    "# It's more likely the paperwork for a single unit didn't have a value\n",
    "\n",
    "zillow.unitcnt = zillow.unitcnt.fillna(1.0)\n",
    "zillow.shape"
   ]
  },
  {
   "cell_type": "code",
   "execution_count": 17,
   "metadata": {},
   "outputs": [
    {
     "data": {
      "text/plain": [
       "29"
      ]
     },
     "execution_count": 17,
     "metadata": {},
     "output_type": "execute_result"
    }
   ],
   "source": [
    "# How many unitcounts are not 1?\n",
    "\n",
    "(zillow.unitcnt != 1).sum()"
   ]
  },
  {
   "cell_type": "code",
   "execution_count": 20,
   "metadata": {
    "scrolled": true
   },
   "outputs": [
    {
     "data": {
      "text/plain": [
       "(52150, 69)"
      ]
     },
     "execution_count": 20,
     "metadata": {},
     "output_type": "execute_result"
    }
   ],
   "source": [
    "# Remove the duplex, triplex, etc...\n",
    "\n",
    "zillow = zillow[zillow.unitcnt == 1.0]\n",
    "zillow.shape"
   ]
  },
  {
   "cell_type": "markdown",
   "metadata": {},
   "source": [
    "### 2. Create a function that will drop rows or columns based on the percent of values that are missing: handle_missing_values(df, prop_required_column, prop_required_row)."
   ]
  },
  {
   "cell_type": "code",
   "execution_count": null,
   "metadata": {},
   "outputs": [],
   "source": [
    "def handle_missing_values(df, prop_required_column, prop_required_row):\n",
    "    \"\"\"\n",
    "    Drop rows and columsn based on the perent of values that are missing.\n",
    "    Parameters: \n",
    "    1. df\n",
    "    2. the proportion, for each column, of rows with non-missing values requied to keep the column\n",
    "    3. the proportion, for each row, of columns with non-missing values required to keep the row\n",
    "    \"\"\"\n",
    "    threshold = int(round(prop_required_column*len(df.index),0))\n",
    "    df.dropna(axis=1, thresh=threshold, inplace=True)\n",
    "    threshold = int(round(prop_required_row*len(df.columns),0))\n",
    "    df.dropna(axis=0, thresh=threshold, inplace=True)\n",
    "    return df"
   ]
  },
  {
   "cell_type": "code",
   "execution_count": 22,
   "metadata": {},
   "outputs": [
    {
     "data": {
      "text/plain": [
       "(52150, 35)"
      ]
     },
     "execution_count": 22,
     "metadata": {},
     "output_type": "execute_result"
    }
   ],
   "source": [
    "# Test the function: the columns has no more than 40% missing and the rows has no more than 40% missing\n",
    "\n",
    "zillow_dropna = prepare.handle_missing_values(zillow, 0.6, 0.6)\n",
    "zillow_dropna.shape"
   ]
  },
  {
   "cell_type": "code",
   "execution_count": 23,
   "metadata": {},
   "outputs": [
    {
     "data": {
      "text/plain": [
       "(52150, 35)"
      ]
     },
     "execution_count": 23,
     "metadata": {},
     "output_type": "execute_result"
    }
   ],
   "source": [
    "# since the inplace = True, the zillow dataset have been modified.  \n",
    "\n",
    "zillow.shape"
   ]
  },
  {
   "cell_type": "code",
   "execution_count": 32,
   "metadata": {},
   "outputs": [
    {
     "data": {
      "text/plain": [
       "(52150, 33)"
      ]
     },
     "execution_count": 32,
     "metadata": {},
     "output_type": "execute_result"
    }
   ],
   "source": [
    "# Drop logically unnecessary columns\n",
    "# 2 id cols\n",
    "\n",
    "zillow = zillow.drop(columns=[\"id\"])\n",
    "zillow.shape"
   ]
  },
  {
   "cell_type": "code",
   "execution_count": 33,
   "metadata": {},
   "outputs": [
    {
     "data": {
      "text/plain": [
       "buildingqualitytypeid           18537\n",
       "propertyzoningdesc              18476\n",
       "heatingorsystemtypeid           18334\n",
       "heatingorsystemdesc             18334\n",
       "regionidcity                     1028\n",
       "lotsizesquarefeet                 350\n",
       "finishedsquarefeet12              166\n",
       "censustractandblock               109\n",
       "structuretaxvaluedollarcnt         69\n",
       "yearbuilt                          40\n",
       "regionidzip                        23\n",
       "fullbathcnt                        16\n",
       "calculatedbathnbr                  16\n",
       "calculatedfinishedsquarefeet        8\n",
       "taxamount                           4\n",
       "taxvaluedollarcnt                   1\n",
       "landtaxvaluedollarcnt               1\n",
       "propertylandusedesc                 0\n",
       "bedroomcnt                          0\n",
       "bathroomcnt                         0\n",
       "parcelid                            0\n",
       "fips                                0\n",
       "rawcensustractandblock              0\n",
       "latitude                            0\n",
       "longitude                           0\n",
       "propertycountylandusecode           0\n",
       "regionidcounty                      0\n",
       "roomcnt                             0\n",
       "unitcnt                             0\n",
       "assessmentyear                      0\n",
       "logerror                            0\n",
       "transactiondate                     0\n",
       "propertylandusetypeid               0\n",
       "dtype: int64"
      ]
     },
     "execution_count": 33,
     "metadata": {},
     "output_type": "execute_result"
    }
   ],
   "source": [
    "zillow.isnull().sum().sort_values(ascending=False)\n",
    "\n",
    "# Then address the top 4 features in the Series below. "
   ]
  },
  {
   "cell_type": "code",
   "execution_count": 34,
   "metadata": {},
   "outputs": [
    {
     "data": {
      "text/plain": [
       "(52150, 32)"
      ]
     },
     "execution_count": 34,
     "metadata": {},
     "output_type": "execute_result"
    }
   ],
   "source": [
    "# propertyzoningdesc = Description of the allowed land uses (zoning) for that property\n",
    "# I'll drop this, b/c we're already filtering for single unit residential.\n",
    "\n",
    "zillow.drop(columns=['propertyzoningdesc'], inplace=True)\n",
    "zillow.shape"
   ]
  },
  {
   "cell_type": "code",
   "execution_count": 35,
   "metadata": {},
   "outputs": [
    {
     "data": {
      "text/plain": [
       "(52150, 31)"
      ]
     },
     "execution_count": 35,
     "metadata": {},
     "output_type": "execute_result"
    }
   ],
   "source": [
    "# heatingorsystemtypeid = is the identical info for heatingorsystemdesc \n",
    "# I'll drop this\n",
    "\n",
    "zillow.drop(columns=['heatingorsystemtypeid'], inplace=True)\n",
    "zillow.shape"
   ]
  },
  {
   "cell_type": "code",
   "execution_count": 36,
   "metadata": {
    "scrolled": true
   },
   "outputs": [
    {
     "data": {
      "text/plain": [
       "Central       20676\n",
       "NaN           18334\n",
       "Floor/Wall    12506\n",
       "Forced air      517\n",
       "Solar            85\n",
       "None             16\n",
       "Baseboard         7\n",
       "Radiant           6\n",
       "Gravity           2\n",
       "Yes               1\n",
       "Name: heatingorsystemdesc, dtype: int64"
      ]
     },
     "execution_count": 36,
     "metadata": {},
     "output_type": "execute_result"
    }
   ],
   "source": [
    "# Address the NaN in feature heatingorsystemdesc\n",
    "\n",
    "zillow.heatingorsystemdesc.value_counts(dropna=False)"
   ]
  },
  {
   "cell_type": "code",
   "execution_count": 37,
   "metadata": {},
   "outputs": [
    {
     "data": {
      "text/plain": [
       "Central       20676\n",
       "None          18350\n",
       "Floor/Wall    12506\n",
       "Forced air      517\n",
       "Solar            85\n",
       "Baseboard         7\n",
       "Radiant           6\n",
       "Gravity           2\n",
       "Yes               1\n",
       "Name: heatingorsystemdesc, dtype: int64"
      ]
     },
     "execution_count": 37,
     "metadata": {},
     "output_type": "execute_result"
    }
   ],
   "source": [
    "# b/c these properties are in southern california\n",
    "# I'll fill the NaN with None, suggesting they don't have a/c\n",
    "\n",
    "zillow.heatingorsystemdesc = zillow.heatingorsystemdesc.fillna(\"None\")\n",
    "zillow.heatingorsystemdesc.value_counts(dropna=False)"
   ]
  },
  {
   "cell_type": "code",
   "execution_count": 38,
   "metadata": {},
   "outputs": [
    {
     "data": {
      "text/plain": [
       "0.9921298509970148"
      ]
     },
     "execution_count": 38,
     "metadata": {},
     "output_type": "execute_result"
    }
   ],
   "source": [
    "# Looks like calculatedbathrbr is equivalent to bathroomcnt\n",
    "\n",
    "(df.calculatedbathnbr == df.bathroomcnt).sum() / len(df)"
   ]
  },
  {
   "cell_type": "code",
   "execution_count": 39,
   "metadata": {
    "scrolled": true
   },
   "outputs": [
    {
     "data": {
      "text/plain": [
       "(52150, 30)"
      ]
     },
     "execution_count": 39,
     "metadata": {},
     "output_type": "execute_result"
    }
   ],
   "source": [
    "zillow = zillow.drop(columns=[\"calculatedbathnbr\"])\n",
    "zillow.shape"
   ]
  },
  {
   "cell_type": "code",
   "execution_count": 51,
   "metadata": {},
   "outputs": [
    {
     "data": {
      "text/plain": [
       "buildingqualitytypeid           18537\n",
       "regionidcity                     1028\n",
       "lotsizesquarefeet                 350\n",
       "finishedsquarefeet12              166\n",
       "censustractandblock               109\n",
       "structuretaxvaluedollarcnt         69\n",
       "yearbuilt                          40\n",
       "regionidzip                        23\n",
       "fullbathcnt                        16\n",
       "calculatedfinishedsquarefeet        8\n",
       "dtype: int64"
      ]
     },
     "execution_count": 51,
     "metadata": {},
     "output_type": "execute_result"
    }
   ],
   "source": [
    "# Check the status on null values\n",
    "\n",
    "zillow.isna().sum().sort_values(ascending=False).head(10)"
   ]
  },
  {
   "cell_type": "markdown",
   "metadata": {},
   "source": [
    "# It's a Good Time to Split the Data\n",
    "- Split the df into train/validate/test\n",
    "- Impute values from train, then apply them to validate and test sets.\n",
    "- Keep our out of sample datasets out of sample\n",
    "### 3. Split the data into train/validate/test"
   ]
  },
  {
   "cell_type": "code",
   "execution_count": 52,
   "metadata": {},
   "outputs": [
    {
     "data": {
      "text/plain": [
       "((31028, 30), (13299, 30), (7823, 30))"
      ]
     },
     "execution_count": 52,
     "metadata": {},
     "output_type": "execute_result"
    }
   ],
   "source": [
    "train, validate, test = prepare.split_my_data(zillow, pct=0.15)\n",
    "\n",
    "train.shape, validate.shape, test.shape"
   ]
  },
  {
   "cell_type": "code",
   "execution_count": 54,
   "metadata": {},
   "outputs": [
    {
     "data": {
      "text/plain": [
       "buildingqualitytypeid           10958\n",
       "regionidcity                      630\n",
       "lotsizesquarefeet                 216\n",
       "finishedsquarefeet12               93\n",
       "censustractandblock                69\n",
       "structuretaxvaluedollarcnt         36\n",
       "yearbuilt                          23\n",
       "regionidzip                        15\n",
       "fullbathcnt                        10\n",
       "calculatedfinishedsquarefeet        5\n",
       "dtype: int64"
      ]
     },
     "execution_count": 54,
     "metadata": {},
     "output_type": "execute_result"
    }
   ],
   "source": [
    "train.isnull().sum().sort_values(ascending=False).head(10)"
   ]
  },
  {
   "cell_type": "code",
   "execution_count": 55,
   "metadata": {},
   "outputs": [],
   "source": [
    "# Categorical/Discrete columns to use mode to replace nulls\n",
    "\n",
    "cols = [\n",
    "    \"buildingqualitytypeid\",\n",
    "    \"regionidcity\",\n",
    "    \"regionidzip\",\n",
    "    \"yearbuilt\",\n",
    "    \"regionidcity\",\n",
    "    \"censustractandblock\"\n",
    "]\n",
    "\n",
    "for col in cols:\n",
    "    mode = int(train[col].mode()) \n",
    "    # I had some friction when this returned a float (and there were no decimals anyways)\n",
    "    train[col].fillna(value=mode, inplace=True)\n",
    "    validate[col].fillna(value=mode, inplace=True)\n",
    "    test[col].fillna(value=mode, inplace=True)"
   ]
  },
  {
   "cell_type": "code",
   "execution_count": 56,
   "metadata": {},
   "outputs": [
    {
     "data": {
      "text/plain": [
       "lotsizesquarefeet               216\n",
       "finishedsquarefeet12             93\n",
       "structuretaxvaluedollarcnt       36\n",
       "fullbathcnt                      10\n",
       "calculatedfinishedsquarefeet      5\n",
       "taxamount                         3\n",
       "taxvaluedollarcnt                 1\n",
       "landtaxvaluedollarcnt             1\n",
       "buildingqualitytypeid             0\n",
       "propertycountylandusecode         0\n",
       "dtype: int64"
      ]
     },
     "execution_count": 56,
     "metadata": {},
     "output_type": "execute_result"
    }
   ],
   "source": [
    "train.isnull().sum().sort_values(ascending=False).head(10)"
   ]
  },
  {
   "cell_type": "code",
   "execution_count": 57,
   "metadata": {},
   "outputs": [],
   "source": [
    "# Continuous valued columns to use median to replace nulls\n",
    "\n",
    "cols = [\n",
    "    \"structuretaxvaluedollarcnt\",\n",
    "    \"taxamount\",\n",
    "    \"taxvaluedollarcnt\",\n",
    "    \"landtaxvaluedollarcnt\",\n",
    "    \"structuretaxvaluedollarcnt\",\n",
    "    \"finishedsquarefeet12\",\n",
    "    \"calculatedfinishedsquarefeet\",\n",
    "    \"fullbathcnt\",\n",
    "    \"lotsizesquarefeet\"\n",
    "]\n",
    "\n",
    "\n",
    "for col in cols:\n",
    "    median = train[col].median()\n",
    "    train[col].fillna(median, inplace=True)\n",
    "    validate[col].fillna(median, inplace=True)\n",
    "    test[col].fillna(median, inplace=True)"
   ]
  },
  {
   "cell_type": "code",
   "execution_count": 60,
   "metadata": {},
   "outputs": [
    {
     "data": {
      "text/plain": [
       "propertylandusedesc             0\n",
       "heatingorsystemdesc             0\n",
       "parcelid                        0\n",
       "bathroomcnt                     0\n",
       "bedroomcnt                      0\n",
       "buildingqualitytypeid           0\n",
       "calculatedfinishedsquarefeet    0\n",
       "finishedsquarefeet12            0\n",
       "fips                            0\n",
       "fullbathcnt                     0\n",
       "latitude                        0\n",
       "longitude                       0\n",
       "lotsizesquarefeet               0\n",
       "propertycountylandusecode       0\n",
       "rawcensustractandblock          0\n",
       "regionidcity                    0\n",
       "regionidcounty                  0\n",
       "regionidzip                     0\n",
       "roomcnt                         0\n",
       "unitcnt                         0\n",
       "yearbuilt                       0\n",
       "structuretaxvaluedollarcnt      0\n",
       "taxvaluedollarcnt               0\n",
       "assessmentyear                  0\n",
       "landtaxvaluedollarcnt           0\n",
       "taxamount                       0\n",
       "censustractandblock             0\n",
       "logerror                        0\n",
       "transactiondate                 0\n",
       "propertylandusetypeid           0\n",
       "dtype: int64"
      ]
     },
     "execution_count": 60,
     "metadata": {},
     "output_type": "execute_result"
    }
   ],
   "source": [
    "train.isnull().sum().sort_values(ascending=False)"
   ]
  },
  {
   "cell_type": "code",
   "execution_count": 61,
   "metadata": {},
   "outputs": [
    {
     "data": {
      "text/plain": [
       "0"
      ]
     },
     "execution_count": 61,
     "metadata": {},
     "output_type": "execute_result"
    }
   ],
   "source": [
    "# How many nulls left in the dataset?\n",
    "train.isnull().sum().sort_values(ascending=False).sum()"
   ]
  },
  {
   "cell_type": "code",
   "execution_count": 62,
   "metadata": {},
   "outputs": [
    {
     "data": {
      "text/plain": [
       "((31028, 30), (13299, 30), (7823, 30))"
      ]
     },
     "execution_count": 62,
     "metadata": {},
     "output_type": "execute_result"
    }
   ],
   "source": [
    "train.shape, validate.shape, test.shape"
   ]
  },
  {
   "cell_type": "markdown",
   "metadata": {},
   "source": [
    "### 4. Generate and test wrangle_zillow.py"
   ]
  },
  {
   "cell_type": "code",
   "execution_count": 2,
   "metadata": {},
   "outputs": [
    {
     "data": {
      "text/plain": [
       "(77579, 69)"
      ]
     },
     "execution_count": 2,
     "metadata": {},
     "output_type": "execute_result"
    }
   ],
   "source": [
    "zillow = acquire.get_zillow_clustering()\n",
    "zillow.shape\n",
    "\n",
    "# Pass since the shape matches. "
   ]
  },
  {
   "cell_type": "code",
   "execution_count": 3,
   "metadata": {},
   "outputs": [
    {
     "data": {
      "text/plain": [
       "((31028, 30), (13299, 30), (7823, 30))"
      ]
     },
     "execution_count": 3,
     "metadata": {},
     "output_type": "execute_result"
    }
   ],
   "source": [
    "train, validate, test = wrangle_zillow.wrangle_zillow_clustering(zillow)\n",
    "\n",
    "train.shape, validate.shape, test.shape\n",
    "\n",
    "# Pass the shape matching test"
   ]
  },
  {
   "cell_type": "code",
   "execution_count": 5,
   "metadata": {},
   "outputs": [
    {
     "data": {
      "text/plain": [
       "(0, 0, 0)"
      ]
     },
     "execution_count": 5,
     "metadata": {},
     "output_type": "execute_result"
    }
   ],
   "source": [
    "train.isna().sum().sum(), validate.isna().sum().sum(), test.isna().sum().sum()\n",
    "\n",
    "# Pass the 0-null test"
   ]
  },
  {
   "cell_type": "markdown",
   "metadata": {},
   "source": [
    "### The wrangling function works as it should be. I'm ready to move forward to EXPLORATION. "
   ]
  }
 ],
 "metadata": {
  "kernelspec": {
   "display_name": "Python 3",
   "language": "python",
   "name": "python3"
  },
  "language_info": {
   "codemirror_mode": {
    "name": "ipython",
    "version": 3
   },
   "file_extension": ".py",
   "mimetype": "text/x-python",
   "name": "python",
   "nbconvert_exporter": "python",
   "pygments_lexer": "ipython3",
   "version": "3.7.6"
  }
 },
 "nbformat": 4,
 "nbformat_minor": 4
}
