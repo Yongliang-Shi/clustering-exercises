{
 "cells": [
  {
   "cell_type": "markdown",
   "metadata": {},
   "source": [
    "**Zillow**\n",
    "\n",
    "For the following, iterate through the steps you would take to create functions: Write the code to do the following in a jupyter notebook, test it, convert to functions, then create the file to house those functions.\n",
    "\n",
    "You will have a `zillow.ipynb` file and a helper file for each section in the pipeline.\n",
    "\n",
    "**acquire & summarize**\n",
    "\n",
    "- Acquire data from mySQL using the python module to connect and query. \n",
    "- You will want to end with **a single dataframe**. Make sure to include: the logerror, all fields related to the properties that are available. You will end up **using all the tables in the database**.\n",
    "- Be sure to do **the correct join (inner, outer, etc.)**. We do not want to eliminate properties purely because they may have a null value for airconditioningtypeid.\n",
    "- Only include properties with a **transaction in 2017**, and include **only the last transaction for each properity** (so no duplicate property ID's), along with zestimate error and date of transaction.\n",
    "- Only include properties that include a latitude and longitude value."
   ]
  },
  {
   "cell_type": "markdown",
   "metadata": {},
   "source": [
    "**Summarize Zillow Database**\n",
    "\n",
    "- airconditioningtype: 13 unique values\n",
    "    - primary key: airconditioningtypeid\n",
    "\n",
    "\n",
    "- architecturalstyletype: 27 unique values\n",
    "    - primary key: architecturalstyletypeid\n",
    "    \n",
    "    \n",
    "- buildingclasstype: 5 unique values\n",
    "    - primary key: buildingclasstypeid\n",
    "    \n",
    "    \n",
    "- heatingorsystemtype: 25 unique values\n",
    "    - primary key: heatingorsystemtypeid\n",
    "    \n",
    "    \n",
    "- predictions_2016: all the transactions in 2016 \n",
    "    - No need to be joined\n",
    "    \n",
    "    \n",
    "- predictions_2017: 77614 records in total\n",
    "    - primary key: parcelid\n",
    "    - 77613 records in 2017\n",
    "    - 1 record in 2018\n",
    "    - unique id: 77614\n",
    "    - unique parcelid: 77414\n",
    "    \n",
    "    \n",
    "- properties_2016: No need to be joined\n",
    "\n",
    "\n",
    "- properties_2017: main table\n",
    "    - primary key: parcelid\n",
    "    \n",
    "    \n",
    "- propertylandusetype\n",
    "    - primary key: propertylandusetypeid\n",
    "    \n",
    "    \n",
    "- storytype: 35 unique values\n",
    "    - primary key: storytypeid\n",
    "    \n",
    "\n",
    "- typeconstructiontype: 18 unqiue values\n",
    "    - primary key: typeconstructiontypeid\n",
    "    \n",
    "    \n",
    "- unique_properties: 2,985,217 rows\n",
    "    - primary key: parcelid"
   ]
  },
  {
   "cell_type": "code",
   "execution_count": 1,
   "metadata": {},
   "outputs": [],
   "source": [
    "import warnings\n",
    "warnings.filterwarnings(\"ignore\")\n",
    "import os\n",
    "\n",
    "import numpy as np\n",
    "import pandas as pd\n",
    "\n",
    "import matplotlib.pyplot as plt\n",
    "import seaborn as sns\n",
    "\n",
    "import env, acquire"
   ]
  },
  {
   "cell_type": "code",
   "execution_count": null,
   "metadata": {},
   "outputs": [],
   "source": [
    "df.info()"
   ]
  },
  {
   "cell_type": "code",
   "execution_count": null,
   "metadata": {},
   "outputs": [],
   "source": []
  }
 ],
 "metadata": {
  "kernelspec": {
   "display_name": "Python 3",
   "language": "python",
   "name": "python3"
  },
  "language_info": {
   "codemirror_mode": {
    "name": "ipython",
    "version": 3
   },
   "file_extension": ".py",
   "mimetype": "text/x-python",
   "name": "python",
   "nbconvert_exporter": "python",
   "pygments_lexer": "ipython3",
   "version": "3.7.6"
  }
 },
 "nbformat": 4,
 "nbformat_minor": 4
}
